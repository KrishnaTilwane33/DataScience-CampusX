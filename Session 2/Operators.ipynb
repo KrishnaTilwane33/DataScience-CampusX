{
 "cells": [
  {
   "cell_type": "markdown",
   "id": "bd683113-071a-4095-9865-e4c471755d2c",
   "metadata": {},
   "source": [
    "# Operator In Python"
   ]
  },
  {
   "cell_type": "markdown",
   "id": "6b5acffb-f055-49cd-bdeb-52ca6ec27e01",
   "metadata": {},
   "source": [
    "\n",
    "\n",
    "1. Arithmetic Operator\n",
    "2. Relational Operators\n",
    "3. Logical Operators\n",
    "4. Bitwise Operators\n",
    "5. Assignment Operators\n",
    "6. Membership Operators\n"
   ]
  },
  {
   "cell_type": "code",
   "execution_count": 1,
   "id": "efe5cb95-3e05-43f8-82a9-f739c32d586c",
   "metadata": {},
   "outputs": [
    {
     "name": "stdout",
     "output_type": "stream",
     "text": [
      "11\n",
      "3\n",
      "30\n",
      "0.8333333333333334\n",
      "0\n",
      "5\n"
     ]
    }
   ],
   "source": [
    "# 1. Arithmetic operator\n",
    "\n",
    "print(5+6)\n",
    "print(5-2)\n",
    "print(5*6)\n",
    "print(5/6)\n",
    "print(5//6)\n",
    "print(5%6)"
   ]
  },
  {
   "cell_type": "code",
   "execution_count": 3,
   "id": "5ca4d7ed-661e-4e6d-8609-8053ac416bfc",
   "metadata": {},
   "outputs": [
    {
     "name": "stdout",
     "output_type": "stream",
     "text": [
      "True\n",
      "False\n",
      "False\n",
      "True\n",
      "True\n",
      "True\n"
     ]
    }
   ],
   "source": [
    "# 2. Relational Operators \n",
    "print(5<6)\n",
    "print(5>6)\n",
    "print(5>=6)\n",
    "print(5<=6)\n",
    "print(5!=6)\n",
    "print(6==6)"
   ]
  },
  {
   "cell_type": "code",
   "execution_count": 4,
   "id": "9fb1a693-307d-4f46-b494-122455e8e75a",
   "metadata": {},
   "outputs": [
    {
     "name": "stdout",
     "output_type": "stream",
     "text": [
      "0\n",
      "1\n",
      "False\n"
     ]
    }
   ],
   "source": [
    "#Logical Operator \n",
    "print (1 and 0)\n",
    "print (1 or 0)\n",
    "print (not 1)"
   ]
  },
  {
   "cell_type": "code",
   "execution_count": null,
   "id": "42225756-da58-4d9d-97c1-4aba86dfdc50",
   "metadata": {},
   "outputs": [
    {
     "name": "stdout",
     "output_type": "stream",
     "text": [
      "2\n",
      "3\n",
      "1\n",
      "0\n",
      "16\n"
     ]
    }
   ],
   "source": [
    "#bitwise operator\n",
    "\n",
    "# bitwise and\n",
    "print (2 & 3) # and\n",
    "print (2 | 3)# or\n",
    "print (2 ^ 3) # XOR\n",
    "print (2 >> 3) # Left shift of 2 (binary value) by 3 place\n",
    "print (2 << 3) # right shift\n"
   ]
  },
  {
   "cell_type": "code",
   "execution_count": 11,
   "id": "425ef11b-f623-4552-a75f-e7889aa0740d",
   "metadata": {},
   "outputs": [
    {
     "name": "stdout",
     "output_type": "stream",
     "text": [
      "2\n",
      "3\n"
     ]
    }
   ],
   "source": [
    "# Assignment Operator\n",
    "\n",
    "a=2\n",
    "print (a)\n",
    "a+=1\n",
    "\n",
    "print(a)"
   ]
  },
  {
   "cell_type": "code",
   "execution_count": null,
   "id": "08f0e1cf-1cfc-4ae6-bd9e-b027dcec9c16",
   "metadata": {},
   "outputs": [
    {
     "name": "stdout",
     "output_type": "stream",
     "text": [
      "True\n",
      "False\n",
      "True\n"
     ]
    }
   ],
   "source": [
    " # Membership operator \n",
    "print(\"M\" in \"Mumbai\") # in operator\n",
    "\n",
    "print (\"M\" not in 'Mumbai')\n",
    "\n",
    "print (1 in [1,3,\"Amr\"])"
   ]
  },
  {
   "cell_type": "code",
   "execution_count": 2,
   "id": "ab4d5400-d7f5-4a32-af93-904ed31f72fa",
   "metadata": {},
   "outputs": [
    {
     "name": "stdout",
     "output_type": "stream",
     "text": [
      "3\n"
     ]
    }
   ],
   "source": [
    "# Program - 3 digit sum\n",
    "\n",
    "num=int(input(\"Enter 3 ddigit number\"))\n",
    "#  239%10 =9\n",
    "a = num%10\n",
    "\n",
    "num=num//10     # num = 239//10 = 23\n",
    "\n",
    "\n",
    "b = num%10\n",
    "\n",
    "num=num//10\n",
    "\n",
    "c = num%10\n",
    "\n",
    "num=num//10\n",
    "\n",
    "print(a+b+c)"
   ]
  },
  {
   "cell_type": "code",
   "execution_count": 3,
   "id": "b1a49043-f1b3-4a4c-a0b0-bd833f1f2e2a",
   "metadata": {},
   "outputs": [],
   "source": [
    "# if else"
   ]
  },
  {
   "cell_type": "code",
   "execution_count": 4,
   "id": "a90a4a89-be7b-4fb7-8797-de65f8cb0138",
   "metadata": {},
   "outputs": [],
   "source": [
    "# Nested if else"
   ]
  },
  {
   "cell_type": "markdown",
   "id": "ca658621-2df6-469e-9497-76106b82b067",
   "metadata": {},
   "source": [
    " # Modules In Python"
   ]
  },
  {
   "cell_type": "code",
   "execution_count": null,
   "id": "daa8dc05-ff27-4c81-8655-c8df89f6e24b",
   "metadata": {},
   "outputs": [],
   "source": []
  },
  {
   "cell_type": "markdown",
   "id": "d3c75b85-1025-468b-a0a9-771aad55b1c7",
   "metadata": {},
   "source": [
    "1. math\n",
    "2. keywords\n",
    "3. random\n",
    "4. datetime"
   ]
  },
  {
   "cell_type": "code",
   "execution_count": 5,
   "id": "1c0d3635-226e-4738-8dba-618148a8eaf9",
   "metadata": {},
   "outputs": [
    {
     "data": {
      "text/plain": [
       "6"
      ]
     },
     "execution_count": 5,
     "metadata": {},
     "output_type": "execute_result"
    }
   ],
   "source": [
    "# math\n",
    "import math\n",
    "\n",
    "math.factorial(6)\n",
    "math.floor(6.8)"
   ]
  },
  {
   "cell_type": "code",
   "execution_count": 6,
   "id": "572150f1-07cf-4da2-90e5-e6fd1b18300c",
   "metadata": {},
   "outputs": [
    {
     "name": "stdout",
     "output_type": "stream",
     "text": [
      "['False', 'None', 'True', 'and', 'as', 'assert', 'async', 'await', 'break', 'class', 'continue', 'def', 'del', 'elif', 'else', 'except', 'finally', 'for', 'from', 'global', 'if', 'import', 'in', 'is', 'lambda', 'nonlocal', 'not', 'or', 'pass', 'raise', 'return', 'try', 'while', 'with', 'yield']\n"
     ]
    }
   ],
   "source": [
    "# keyword\n",
    "\n",
    "import keyword\n",
    "\n",
    "print(keyword.kwlist)"
   ]
  },
  {
   "cell_type": "code",
   "execution_count": 7,
   "id": "3c5b853c-ff01-4178-b3da-4c648e5468c9",
   "metadata": {},
   "outputs": [
    {
     "name": "stdout",
     "output_type": "stream",
     "text": [
      "6\n"
     ]
    }
   ],
   "source": [
    "# random\n",
    "import random\n",
    "\n",
    "print(random.randint(1,100))"
   ]
  },
  {
   "cell_type": "code",
   "execution_count": 12,
   "id": "fd7b00ac-2cc5-49f3-bbe2-22a19051f2e0",
   "metadata": {},
   "outputs": [
    {
     "name": "stdout",
     "output_type": "stream",
     "text": [
      "2025-06-05 22:40:17.001244\n"
     ]
    }
   ],
   "source": [
    "#datetime\n",
    "\n",
    "import datetime\n",
    "\n",
    "print(datetime.datetime.now())"
   ]
  },
  {
   "cell_type": "code",
   "execution_count": 13,
   "id": "d6c2debd-0085-429d-b394-53abf40383b5",
   "metadata": {},
   "outputs": [
    {
     "name": "stdout",
     "output_type": "stream",
     "text": [
      "\n",
      "Please wait a moment while I gather a list of all available modules...\n",
      "\n",
      "requirements: Ultralytics requirement ['lap>=0.5.12'] not found, attempting AutoUpdate...\n",
      "requirements:  AutoUpdate skipped (offline)\n",
      "IPython             cmd                 mimetypes           sspicon\n",
      "PIL                 code                mistune             stack_data\n",
      "__future__          codecs              ml_dtypes           starlette\n",
      "__hello__           codeop              mmap                start_pythonwin\n",
      "__phello__          collections         mmapfile            stat\n",
      "_abc                colorama            mmsystem            statistics\n",
      "_aix_support        colorsys            modulefinder        streamlit\n",
      "_argon2_cffi_bindings comm                mpl_toolkits        string\n",
      "_ast                commctrl            mpmath              stringprep\n",
      "_asyncio            compileall          msgpack             struct\n",
      "_bisect             concurrent          msilib              subprocess\n",
      "_blake2             confection          msvcrt              sunau\n",
      "_bz2                configparser        multiprocessing     sympy\n",
      "_cffi_backend       contextlib          murmurhash          symtable\n",
      "_codecs             contextvars         namex               sys\n",
      "_codecs_cn          contourpy           narwhals            sysconfig\n",
      "_codecs_hk          copy                nbclient            tabnanny\n",
      "_codecs_iso2022     copyreg             nbconvert           tarfile\n",
      "_codecs_jp          cpuinfo             nbformat            telnetlib\n",
      "_codecs_kr          crypt               nest_asyncio        tempfile\n",
      "_codecs_tw          cryptography        netbios             tenacity\n",
      "_collections        csv                 netrc               tensorboard\n",
      "_collections_abc    ctypes              networkx            tensorboard_data_server\n",
      "_compat_pickle      curses              nltk                tensorflow\n",
      "_compression        cv2                 nntplib             termcolor\n",
      "_contextvars        cycler              notebook            terminado\n",
      "_csv                cymem               notebook_shim       test\n",
      "_ctypes             dataclasses         nt                  tests\n",
      "_ctypes_test        datetime            ntpath              textwrap\n",
      "_datetime           dateutil            ntsecuritycon       thinc\n",
      "_decimal            dbi                 nturl2path          this\n",
      "_distutils_hack     dbm                 numba               thop\n",
      "_elementtree        dde                 numbers             threading\n",
      "_functools          debugpy             numpy               threadpoolctl\n",
      "_hashlib            decimal             odbc                time\n",
      "_heapq              decorator           opcode              timeit\n",
      "_imp                defusedxml          operator            timer\n",
      "_io                 difflib             opt_einsum          tinycss2\n",
      "_json               dis                 optparse            tkinter\n",
      "_locale             distlib             optree              token\n",
      "_lsprof             django              os                  tokenize\n",
      "_lzma               doctest             overrides           toml\n",
      "_markupbase         email               packaging           tomllib\n",
      "_md5                encodings           pandas              torch\n",
      "_msi                ensurepip           pandocfilters       torchgen\n",
      "_multibytecodec     enum                parso               torchvision\n",
      "_multiprocessing    errno               pasta               tornado\n",
      "_opcode             executing           pathlib             tqdm\n",
      "_operator           fastapi             pdb                 trace\n",
      "_osx_support        fastjsonschema      perfmon             traceback\n",
      "_overlapped         faulthandler        pickle              tracemalloc\n",
      "_pickle             filecmp             pickletools         traitlets\n",
      "_py_abc             fileinput           pip                 tty\n",
      "_pydatetime         filelock            pipes               turtle\n",
      "_pydecimal          firebase_admin      pkg_resources       turtledemo\n",
      "_pyio               flask               pkgutil             typer\n",
      "_pylong             flask_sqlalchemy    platform            types\n",
      "_queue              flatbuffers         platformdirs        typing\n",
      "_random             fnmatch             plistlib            typing_extensions\n",
      "_sha1               fontTools           pooch               typing_inspection\n",
      "_sha2               fqdn                poplib              tzdata\n",
      "_sha3               fractions           posixpath           ultralytics\n",
      "_signal             fsspec              pprint              unicodedata\n",
      "_sitebuiltins       ftplib              preshed             unittest\n",
      "_socket             functools           profile             uri_template\n",
      "_soundfile          functorch           prometheus_client   uritemplate\n",
      "_soundfile_data     gast                prompt_toolkit      urllib\n",
      "_sqlite3            gc                  proto               urllib3\n",
      "_sre                genericpath         pstats              uu\n",
      "_ssl                getopt              psutil              uuid\n",
      "_stat               getpass             pty                 venv\n",
      "_statistics         gettext             pure_eval           virtualenv\n",
      "_string             git                 py_compile          warnings\n",
      "_strptime           gitdb               pyarrow             wasabi\n",
      "_struct             glob                pyasn1              watchdog\n",
      "_symtable           google_auth_httplib2 pyasn1_modules      wave\n",
      "_testbuffer         google_crc32c       pyclbr              wcwidth\n",
      "_testcapi           googleapiclient     pycodestyle         weakref\n",
      "_testclinic         graphlib            pycparser           weasel\n",
      "_testconsole        greenlet            pydantic            webbrowser\n",
      "_testimportmultiple grpc                pydantic_core       webcolors\n",
      "_testinternalcapi   grpc_status         pydeck              webencodings\n",
      "_testmultiphase     gzip                pydoc               websocket\n",
      "_testsinglephase    h11                 pydoc_data          werkzeug\n",
      "_thread             h5py                pyexpat             wheel\n",
      "_threading_local    hashlib             pygments            widgetsnbextension\n",
      "_tkinter            heapq               pylab               win2kras\n",
      "_tokenize           hmac                pyparsing           win32api\n",
      "_tracemalloc        html                pythoncom           win32clipboard\n",
      "_typing             http                pythonjsonlogger    win32com\n",
      "_uuid               httpcore            pytz                win32con\n",
      "_warnings           httplib2            pywin               win32console\n",
      "_weakref            httpx               pywin32_bootstrap   win32cred\n",
      "_weakrefset         idlelib             pywin32_testutil    win32crypt\n",
      "_win32sysloader     idna                pywintypes          win32cryptcon\n",
      "_winapi             imaplib             qtconsole           win32event\n",
      "_winxptheme         imghdr              qtpy                win32evtlog\n",
      "_wmi                importlib           queue               win32evtlogutil\n",
      "_xxinterpchannels   inspect             quopri              win32file\n",
      "_xxsubinterpreters  io                  random              win32gui\n",
      "_yaml               ipaddress           rasutil             win32gui_struct\n",
      "_zoneinfo           ipykernel           re                  win32help\n",
      "abc                 ipykernel_launcher  referencing         win32inet\n",
      "absl                ipywidgets          regcheck            win32inetcon\n",
      "adodbapi            isapi               regex               win32job\n",
      "afxres              isoduration         regutil             win32lz\n",
      "aifc                isympy              reprlib             win32net\n",
      "altair              itertools           requests            win32netcon\n",
      "annotated_types     itsdangerous        rfc3339_validator   win32pdh\n",
      "antigravity         jedi                rfc3986_validator   win32pdhquery\n",
      "anyio               jinja2              rich                win32pdhutil\n",
      "apiclient           joblib              rlcompleter         win32pipe\n",
      "argon2              json                rpds                win32print\n",
      "argparse            json5               rsa                 win32process\n",
      "array               jsonpointer         runpy               win32profile\n",
      "arrow               jsonschema          sched               win32ras\n",
      "asgiref             jsonschema_specifications scipy               win32rcparser\n",
      "ast                 jupyter             seaborn             win32security\n",
      "asttokens           jupyter_client      secrets             win32service\n",
      "astunparse          jupyter_console     select              win32serviceutil\n",
      "async_lru           jupyter_core        selectors           win32timezone\n",
      "asyncio             jupyter_events      send2trash          win32trace\n",
      "atexit              jupyter_lsp         servicemanager      win32traceutil\n",
      "attr                jupyter_server      setuptools          win32transaction\n",
      "attrs               jupyter_server_terminals shellingham         win32ts\n",
      "audioop             jupyterlab          shelve              win32ui\n",
      "audioread           jupyterlab_pygments shlex               win32uiole\n",
      "autopep8            jupyterlab_server   shutil              win32verstamp\n",
      "babel               jupyterlab_widgets  signal              win32wnet\n",
      "base64              jwt                 site                winerror\n",
      "bdb                 keras               six                 winioctlcon\n",
      "binascii            keyword             sklearn             winnt\n",
      "bisect              kiwisolver          smart_open          winperf\n",
      "bleach              langcodes           smmap               winpty\n",
      "blinker             language_data       smtplib             winreg\n",
      "blis                lazy_loader         sndhdr              winsound\n",
      "bs4                 lib2to3             sniffio             winxpgui\n",
      "builtins            librosa             socket              winxptheme\n",
      "bz2                 linecache           socketserver        wrapt\n",
      "cProfile            llvmlite            soundfile           wsgiref\n",
      "cachecontrol        locale              soupsieve           xdrlib\n",
      "cachetools          logging             soxr                xml\n",
      "calendar            lzma                spacy               xmlrpc\n",
      "catalogue           mailbox             spacy_legacy        xxsubtype\n",
      "certifi             mailcap             spacy_loggers       yaml\n",
      "cffi                marisa_trie         sqlalchemy          zipapp\n",
      "cgi                 markdown            sqlite3             zipfile\n",
      "cgitb               markdown_it         sqlparse            zipimport\n",
      "charset_normalizer  markupsafe          sre_compile         zlib\n",
      "chunk               marshal             sre_constants       zmq\n",
      "clang               math                sre_parse           zoneinfo\n",
      "click               matplotlib          srsly               \n",
      "cloudpathlib        matplotlib_inline   ssl                 \n",
      "cmath               mdurl               sspi                \n",
      "\n",
      "Enter any module name to get more help.  Or, type \"modules spam\" to search\n",
      "for modules whose name or summary contain the string \"spam\".\n",
      "\n"
     ]
    }
   ],
   "source": [
    "help('modules') # All module's in python"
   ]
  },
  {
   "cell_type": "markdown",
   "id": "9e321dce-1332-4a08-904c-2fb917311626",
   "metadata": {},
   "source": [
    "# Loops in Python"
   ]
  },
  {
   "cell_type": "markdown",
   "id": "34fe3f77-b9bb-4cdc-a0a2-0ab3423094d7",
   "metadata": {},
   "source": [
    "1. For loop\n",
    "2. while loop\n"
   ]
  },
  {
   "cell_type": "code",
   "execution_count": 10,
   "id": "1005aee4-6bde-4c13-8280-096f88340e7a",
   "metadata": {},
   "outputs": [
    {
     "name": "stdout",
     "output_type": "stream",
     "text": [
      "1\n",
      "2\n",
      "Loop terminated\n"
     ]
    }
   ],
   "source": [
    "# while\n",
    "x=1  \n",
    "\n",
    "while x<3:\n",
    "    print(x)\n",
    "    x+=1\n",
    "\n",
    "else:\n",
    "    print(\"Loop terminated\")"
   ]
  },
  {
   "cell_type": "code",
   "execution_count": 14,
   "id": "4fd44a72-ecb2-4904-bc45-a118f704bab5",
   "metadata": {},
   "outputs": [
    {
     "name": "stdout",
     "output_type": "stream",
     "text": [
      "Winner 🥇\n"
     ]
    }
   ],
   "source": [
    "#Guessing game\n",
    "\n",
    "import random\n",
    "\n",
    "jackpot= random.randint(1,100)\n",
    "\n",
    "guess = int(input(\"Guess kara\"))\n",
    "\n",
    "while guess != jackpot:\n",
    "    if guess < jackpot:\n",
    "        print(\"Guess higher\")\n",
    "    else:\n",
    "        print(\"Guess lower\")\n",
    "    guess = int(input(\"punha Guess kara\"))\n",
    "\n",
    "else:\n",
    "    print(\"Winner 🥇\")"
   ]
  },
  {
   "cell_type": "code",
   "execution_count": null,
   "id": "3c6aedc2-4663-45d7-b3a6-e992066a87db",
   "metadata": {},
   "outputs": [
    {
     "name": "stdout",
     "output_type": "stream",
     "text": [
      "1\n",
      "3\n",
      "5\n",
      "7\n",
      "9\n"
     ]
    }
   ],
   "source": [
    "# for loop\n",
    "\n",
    "for i in range(1,11,2):\n",
    "    print(i)"
   ]
  },
  {
   "cell_type": "code",
   "execution_count": null,
   "id": "1819ad20-725c-4d8f-843b-863d7a4a0d89",
   "metadata": {},
   "outputs": [
    {
     "name": "stdout",
     "output_type": "stream",
     "text": [
      "11\n",
      "10\n",
      "9\n",
      "8\n",
      "7\n",
      "6\n",
      "5\n",
      "4\n",
      "3\n"
     ]
    }
   ],
   "source": [
    "for i in range(11,2,-1):\n",
    "    print(i)"
   ]
  },
  {
   "cell_type": "code",
   "execution_count": null,
   "id": "82f1e595-edb1-40be-b5a0-069c37f9c9a6",
   "metadata": {},
   "outputs": [],
   "source": []
  }
 ],
 "metadata": {
  "kernelspec": {
   "display_name": "Python 3",
   "language": "python",
   "name": "python3"
  },
  "language_info": {
   "codemirror_mode": {
    "name": "ipython",
    "version": 3
   },
   "file_extension": ".py",
   "mimetype": "text/x-python",
   "name": "python",
   "nbconvert_exporter": "python",
   "pygments_lexer": "ipython3",
   "version": "3.12.4"
  }
 },
 "nbformat": 4,
 "nbformat_minor": 5
}
