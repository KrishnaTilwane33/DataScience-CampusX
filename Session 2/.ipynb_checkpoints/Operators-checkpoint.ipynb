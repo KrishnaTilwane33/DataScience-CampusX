{
 "cells": [
  {
   "cell_type": "markdown",
   "id": "bd683113-071a-4095-9865-e4c471755d2c",
   "metadata": {},
   "source": [
    "# Operator In Python"
   ]
  },
  {
   "cell_type": "code",
   "execution_count": null,
   "id": "6b5acffb-f055-49cd-bdeb-52ca6ec27e01",
   "metadata": {},
   "outputs": [],
   "source": [
    "\n",
    "\n",
    "1. Arithmetic Operator\n",
    "2. Relational Operators\n",
    "3. Logical Operators\n",
    "4. Bitwise Operators\n",
    "5. Assignment Operators\n",
    "6. Membership Operators\n"
   ]
  },
  {
   "cell_type": "code",
   "execution_count": 1,
   "id": "efe5cb95-3e05-43f8-82a9-f739c32d586c",
   "metadata": {},
   "outputs": [
    {
     "name": "stdout",
     "output_type": "stream",
     "text": [
      "11\n",
      "3\n",
      "30\n",
      "0.8333333333333334\n",
      "0\n",
      "5\n"
     ]
    }
   ],
   "source": [
    "# 1. Arithmetic operator\n",
    "\n",
    "print(5+6)\n",
    "print(5-2)\n",
    "print(5*6)\n",
    "print(5/6)\n",
    "print(5//6)\n",
    "print(5%6)"
   ]
  },
  {
   "cell_type": "code",
   "execution_count": 3,
   "id": "5ca4d7ed-661e-4e6d-8609-8053ac416bfc",
   "metadata": {},
   "outputs": [
    {
     "name": "stdout",
     "output_type": "stream",
     "text": [
      "True\n",
      "False\n",
      "False\n",
      "True\n",
      "True\n",
      "True\n"
     ]
    }
   ],
   "source": [
    "# 2. Relational Operators \n",
    "print(5<6)\n",
    "print(5>6)\n",
    "print(5>=6)\n",
    "print(5<=6)\n",
    "print(5!=6)\n",
    "print(6==6)"
   ]
  },
  {
   "cell_type": "code",
   "execution_count": 4,
   "id": "9fb1a693-307d-4f46-b494-122455e8e75a",
   "metadata": {},
   "outputs": [
    {
     "name": "stdout",
     "output_type": "stream",
     "text": [
      "0\n",
      "1\n",
      "False\n"
     ]
    }
   ],
   "source": [
    "#Logical Operator \n",
    "print (1 and 0)\n",
    "print (1 or 0)\n",
    "print (not 1)"
   ]
  },
  {
   "cell_type": "code",
   "execution_count": 9,
   "id": "42225756-da58-4d9d-97c1-4aba86dfdc50",
   "metadata": {},
   "outputs": [
    {
     "name": "stdout",
     "output_type": "stream",
     "text": [
      "2\n",
      "3\n",
      "1\n",
      "0\n",
      "16\n"
     ]
    }
   ],
   "source": [
    "#bitwise operator\n",
    "\n",
    "# bitwise and\n",
    "print (2 & 3) # and\n",
    "print (2 | 3)# or\n",
    "print (2 ^ 3) # XOR\n",
    "print (2 >> 3) # Left shift\n",
    "print (2 << 3) # right shift\n"
   ]
  },
  {
   "cell_type": "code",
   "execution_count": 11,
   "id": "425ef11b-f623-4552-a75f-e7889aa0740d",
   "metadata": {},
   "outputs": [
    {
     "name": "stdout",
     "output_type": "stream",
     "text": [
      "2\n",
      "3\n"
     ]
    }
   ],
   "source": [
    "# Assignment Operator\n",
    "\n",
    "a=2\n",
    "print (a)\n",
    "a+=1\n",
    "\n",
    "print(a)"
   ]
  },
  {
   "cell_type": "code",
   "execution_count": 16,
   "id": "08f0e1cf-1cfc-4ae6-bd9e-b027dcec9c16",
   "metadata": {},
   "outputs": [
    {
     "name": "stdout",
     "output_type": "stream",
     "text": [
      "True\n",
      "False\n",
      "True\n"
     ]
    }
   ],
   "source": [
    " # Membership operator \n",
    " print(\"M\" in \"Mumbai\") # in operator\n",
    "\n",
    "print (\"M\" not in 'Mumbai')\n",
    "\n",
    "print (1 in [1,3,\"Amr\"])"
   ]
  },
  {
   "cell_type": "code",
   "execution_count": 18,
   "id": "ab4d5400-d7f5-4a32-af93-904ed31f72fa",
   "metadata": {},
   "outputs": [
    {
     "name": "stdin",
     "output_type": "stream",
     "text": [
      "Enter 3 ddigit number 239\n"
     ]
    },
    {
     "name": "stdout",
     "output_type": "stream",
     "text": [
      "14\n"
     ]
    }
   ],
   "source": [
    "# Program - 3 digit sum\n",
    "\n",
    "num=int(input(\"Enter 3 ddigit number\"))\n",
    "#  239%10 =9\n",
    "a = num%10\n",
    "\n",
    "num=num//10     # num = 239//10 = 23\n",
    "\n",
    "\n",
    "b = num%10\n",
    "\n",
    "num=num//10\n",
    "\n",
    "c = num%10\n",
    "\n",
    "num=num//10\n",
    "\n",
    "print(a+b+c)"
   ]
  },
  {
   "cell_type": "code",
   "execution_count": 19,
   "id": "b1a49043-f1b3-4a4c-a0b0-bd833f1f2e2a",
   "metadata": {},
   "outputs": [],
   "source": [
    "# if else"
   ]
  },
  {
   "cell_type": "code",
   "execution_count": 20,
   "id": "a90a4a89-be7b-4fb7-8797-de65f8cb0138",
   "metadata": {},
   "outputs": [],
   "source": [
    "# Nested if else"
   ]
  },
  {
   "cell_type": "markdown",
   "id": "ca658621-2df6-469e-9497-76106b82b067",
   "metadata": {},
   "source": [
    " # Modules In Python"
   ]
  },
  {
   "cell_type": "code",
   "execution_count": null,
   "id": "daa8dc05-ff27-4c81-8655-c8df89f6e24b",
   "metadata": {},
   "outputs": [],
   "source": []
  },
  {
   "cell_type": "markdown",
   "id": "d3c75b85-1025-468b-a0a9-771aad55b1c7",
   "metadata": {},
   "source": [
    "1. math\n",
    "2. keywords\n",
    "3. random\n",
    "4. datetime"
   ]
  },
  {
   "cell_type": "code",
   "execution_count": 23,
   "id": "1c0d3635-226e-4738-8dba-618148a8eaf9",
   "metadata": {},
   "outputs": [
    {
     "data": {
      "text/plain": [
       "6"
      ]
     },
     "execution_count": 23,
     "metadata": {},
     "output_type": "execute_result"
    }
   ],
   "source": [
    "# math\n",
    "import math\n",
    "\n",
    "math.factorial(6)\n",
    "math.floor(6.8)"
   ]
  },
  {
   "cell_type": "code",
   "execution_count": 24,
   "id": "572150f1-07cf-4da2-90e5-e6fd1b18300c",
   "metadata": {},
   "outputs": [
    {
     "name": "stdout",
     "output_type": "stream",
     "text": [
      "['False', 'None', 'True', 'and', 'as', 'assert', 'async', 'await', 'break', 'class', 'continue', 'def', 'del', 'elif', 'else', 'except', 'finally', 'for', 'from', 'global', 'if', 'import', 'in', 'is', 'lambda', 'nonlocal', 'not', 'or', 'pass', 'raise', 'return', 'try', 'while', 'with', 'yield']\n"
     ]
    }
   ],
   "source": [
    "# keyword\n",
    "\n",
    "import keyword\n",
    "\n",
    "print(keyword.kwlist)"
   ]
  },
  {
   "cell_type": "code",
   "execution_count": 25,
   "id": "3c5b853c-ff01-4178-b3da-4c648e5468c9",
   "metadata": {},
   "outputs": [
    {
     "name": "stdout",
     "output_type": "stream",
     "text": [
      "70\n"
     ]
    }
   ],
   "source": [
    "# random\n",
    "import random\n",
    "\n",
    "print(random.randint(1,100))"
   ]
  },
  {
   "cell_type": "code",
   "execution_count": 26,
   "id": "fd7b00ac-2cc5-49f3-bbe2-22a19051f2e0",
   "metadata": {},
   "outputs": [
    {
     "name": "stdout",
     "output_type": "stream",
     "text": [
      "2025-03-31 19:49:46.953709\n"
     ]
    }
   ],
   "source": [
    "#datetime\n",
    "\n",
    "import datetime\n",
    "\n",
    "print(datetime.datetime.now())"
   ]
  },
  {
   "cell_type": "code",
   "execution_count": 27,
   "id": "d6c2debd-0085-429d-b394-53abf40383b5",
   "metadata": {},
   "outputs": [
    {
     "name": "stdout",
     "output_type": "stream",
     "text": [
      "\n",
      "Please wait a moment while I gather a list of all available modules...\n",
      "\n"
     ]
    },
    {
     "name": "stderr",
     "output_type": "stream",
     "text": [
      "D:\\Anaconda3\\Lib\\site-packages\\paramiko\\pkey.py:82: CryptographyDeprecationWarning: TripleDES has been moved to cryptography.hazmat.decrepit.ciphers.algorithms.TripleDES and will be removed from this module in 48.0.0.\n",
      "  \"cipher\": algorithms.TripleDES,\n",
      "D:\\Anaconda3\\Lib\\site-packages\\paramiko\\transport.py:219: CryptographyDeprecationWarning: Blowfish has been moved to cryptography.hazmat.decrepit.ciphers.algorithms.Blowfish and will be removed from this module in 45.0.0.\n",
      "  \"class\": algorithms.Blowfish,\n",
      "D:\\Anaconda3\\Lib\\site-packages\\paramiko\\transport.py:243: CryptographyDeprecationWarning: TripleDES has been moved to cryptography.hazmat.decrepit.ciphers.algorithms.TripleDES and will be removed from this module in 48.0.0.\n",
      "  \"class\": algorithms.TripleDES,\n",
      "D:\\Anaconda3\\Lib\\site-packages\\nltk\\twitter\\__init__.py:20: UserWarning: The twython library has not been installed. Some functionality from the twitter package will not be available.\n",
      "  warnings.warn(\n",
      "D:\\Anaconda3\\Lib\\pkgutil.py:78: UserWarning: The numpy.array_api submodule is still experimental. See NEP 47.\n",
      "  __import__(info.name)\n",
      "D:\\Anaconda3\\Lib\\site-packages\\pydantic\\experimental\\__init__.py:7: PydanticExperimentalWarning:\n",
      "\n",
      "This module is experimental, its contents are subject to change and deprecation.\n",
      "\n",
      "No QCoreApplication instance found. Application patches not applied. You have to call load_stylesheet function after instantiation of QApplication to take effect. \n",
      "D:\\Anaconda3\\Lib\\pkgutil.py:78: DeprecationWarning:\n",
      "\n",
      "`torch.distributed._shard.checkpoint` will be deprecated, use `torch.distributed.checkpoint` instead\n",
      "\n",
      "D:\\Anaconda3\\Lib\\pkgutil.py:78: DeprecationWarning:\n",
      "\n",
      "`torch.distributed._sharded_tensor` will be deprecated, use `torch.distributed._shard.sharded_tensor` instead\n",
      "\n",
      "D:\\Anaconda3\\Lib\\pkgutil.py:78: DeprecationWarning:\n",
      "\n",
      "`torch.distributed._sharding_spec` will be deprecated, use `torch.distributed._shard.sharding_spec` instead\n",
      "\n",
      "W0331 19:52:54.674000 20812 site-packages\\torch\\distributed\\elastic\\multiprocessing\\redirects.py:29] NOTE: Redirects are currently not supported in Windows or MacOs.\n"
     ]
    },
    {
     "name": "stdout",
     "output_type": "stream",
     "text": [
      "requirements: Ultralytics requirement ['lap>=0.5.12'] not found, attempting AutoUpdate...\n",
      "requirements:  AutoUpdate skipped (offline)\n"
     ]
    },
    {
     "name": "stderr",
     "output_type": "stream",
     "text": [
      "<frozen importlib._bootstrap>:918: ImportWarning:\n",
      "\n",
      "BackendLoader.exec_module() not found; falling back to load_module()\n",
      "\n",
      "D:\\Anaconda3\\Lib\\site-packages\\Pythonwin\\pywin\\scintilla\\view.py:814: ResourceWarning:\n",
      "\n",
      "unclosed file <_io.TextIOWrapper name='D:\\\\Anaconda3\\\\Lib\\\\site-packages\\\\Pythonwin\\\\pywin\\\\default.cfg' mode='r' encoding='cp1252'>\n",
      "\n"
     ]
    },
    {
     "name": "stdout",
     "output_type": "stream",
     "text": [
      "3204bda914b7f2c6f497__mypyc comm                mdit_py_plugins     socket\n",
      "IPython             commctrl            mdurl               socketserver\n",
      "OpenSSL             compileall          menuinst            socks\n",
      "PIL                 concurrent          mimetypes           sockshandler\n",
      "PyQt5               conda               mistune             sortedcontainers\n",
      "__future__          conda_build         mkl                 soupsieve\n",
      "__hello__           conda_content_trust mkl_fft             sphinx\n",
      "__phello__          conda_env           mkl_random          spyder\n",
      "_abc                conda_index         mmap                spyder_kernels\n",
      "_aix_support        conda_libmamba_solver mmapfile            sqlalchemy\n",
      "_argon2_cffi_bindings conda_pack          mmsystem            sqlite3\n",
      "_ast                conda_package_handling modulefinder        sre_compile\n",
      "_asyncio            conda_package_streaming more_itertools      sre_constants\n",
      "_bisect             conda_token         mpmath              sre_parse\n",
      "_black_version      configparser        msgpack             ssl\n",
      "_blake2             constantly          msilib              sspi\n",
      "_brotli             contextlib          msvcrt              sspicon\n",
      "_bz2                contextvars         multidict           stack_data\n",
      "_cffi_backend       contourpy           multipledispatch    stat\n",
      "_codecs             cookiecutter        multiprocessing     statistics\n",
      "_codecs_cn          copy                mypy                statsmodels\n",
      "_codecs_hk          copyreg             mypy_extensions     streamlit\n",
      "_codecs_iso2022     cpuinfo             mypyc               string\n",
      "_codecs_jp          crypt               nacl                stringprep\n",
      "_codecs_kr          cryptography        navigator_updater   struct\n",
      "_codecs_tw          cssselect           nbclient            subprocess\n",
      "_collections        csv                 nbconvert           sunau\n",
      "_collections_abc    ctypes              nbformat            sympy\n",
      "_compat_pickle      curl                nest_asyncio        symtable\n",
      "_compression        curses              netbios             sys\n",
      "_contextvars        cv2                 netrc               sysconfig\n",
      "_csv                cwp                 networkx            tables\n",
      "_ctypes             cycler              nltk                tabnanny\n",
      "_ctypes_test        cytoolz             nntplib             tabulate\n",
      "_datetime           dask                notebook            tarfile\n",
      "_decimal            dask_expr           notebook_shim       tblib\n",
      "_distutils_hack     dataclasses         nt                  telnetlib\n",
      "_elementtree        datashader          ntpath              tempfile\n",
      "_functools          datetime            ntsecuritycon       tenacity\n",
      "_hashlib            dateutil            nturl2path          terminado\n",
      "_heapq              dbi                 numba               test\n",
      "_imp                dbm                 numbergen           test_pycosat\n",
      "_io                 dde                 numbers             tests\n",
      "_json               debugpy             numexpr             text_unidecode\n",
      "_locale             decimal             numpy               textdistance\n",
      "_lsprof             decorator           numpydoc            textwrap\n",
      "_lzma               defusedxml          odbc                this\n",
      "_markupbase         diff_match_patch    opcode              thop\n",
      "_md5                difflib             openpyxl            threading\n",
      "_msi                dill                operator            threadpoolctl\n",
      "_multibytecodec     dis                 optparse            three_merge\n",
      "_multiprocessing    distlib             os                  tifffile\n",
      "_nsis               distributed         overrides           time\n",
      "_opcode             distro              packaging           timeit\n",
      "_operator           docstring_to_markdown pandas              timer\n",
      "_osx_support        doctest             pandocfilters       tinycss2\n",
      "_overlapped         docutils            panel               tkinter\n",
      "_pickle             dotenv              param               tldextract\n",
      "_plotly_future_     email               paramiko            tlz\n",
      "_plotly_utils       encodings           parsel              token\n",
      "_py_abc             ensurepip           parso               tokenize\n",
      "_pydatetime         enum                partd               toml\n",
      "_pydecimal          erfa                pathlib             tomli\n",
      "_pyio               errno               pathspec            tomlkit\n",
      "_pylong             et_xmlfile          patsy               tomllib\n",
      "_pytest             executing           pdb                 toolz\n",
      "_queue              fastjsonschema      perfmon             torch\n",
      "_random             faulthandler        pexpect             torchgen\n",
      "_ruamel_yaml        filecmp             pickle              torchvision\n",
      "_sha1               fileinput           pickleshare         tornado\n",
      "_sha2               filelock            pickletools         tqdm\n",
      "_sha3               flake8              pip                 trace\n",
      "_signal             flask               pipes               traceback\n",
      "_sitebuiltins       fnmatch             pkce                tracemalloc\n",
      "_socket             fontTools           pkg_resources       traitlets\n",
      "_sqlite3            fractions           pkginfo             truststore\n",
      "_sre                frozendict          pkgutil             tty\n",
      "_ssl                frozenlist          platform            turtle\n",
      "_stat               fsspec              platformdirs        turtledemo\n",
      "_statistics         ftplib              plistlib            twisted\n",
      "_string             functools           plotly              typeguard\n",
      "_strptime           functorch           pluggy              types\n",
      "_struct             gc                  ply                 typing\n",
      "_symtable           genericpath         poplib              typing_extensions\n",
      "_system_path        gensim              posixpath           tzdata\n",
      "_testbuffer         getopt              pprint              uc_micro\n",
      "_testcapi           getpass             profile             ujson\n",
      "_testclinic         gettext             prometheus_client   ultralytics\n",
      "_testconsole        git                 prompt_toolkit      unicodedata\n",
      "_testimportmultiple gitdb               protego             unicodedata2\n",
      "_testinternalcapi   glob                pstats              unidecode\n",
      "_testmultiphase     graphlib            psutil              unittest\n",
      "_testsinglephase    greenlet            pty                 urllib\n",
      "_thread             gzip                ptyprocess          urllib3\n",
      "_threading_local    h11                 pure_eval           uu\n",
      "_tkinter            h5py                py                  uuid\n",
      "_tokenize           hashlib             py_compile          venv\n",
      "_tracemalloc        heapdict            pyarrow             virtualenv\n",
      "_typing             heapq               pyasn1              w3lib\n",
      "_uuid               hmac                pyasn1_modules      warnings\n",
      "_warnings           holoviews           pyclbr              watchdog\n",
      "_weakref            html                pycodestyle         wave\n",
      "_weakrefset         http                pycosat             wcwidth\n",
      "_win32sysloader     httpcore            pycparser           weakref\n",
      "_winapi             httpx               pyct                webbrowser\n",
      "_winxptheme         hvplot              pycurl              webencodings\n",
      "_wmi                hyperlink           pydantic            websocket\n",
      "_xxinterpchannels   idlelib             pydantic_core       werkzeug\n",
      "_xxsubinterpreters  idna                pydeck              whatthepatch\n",
      "_yaml               imagecodecs         pydispatch          wheel\n",
      "_zoneinfo           imageio             pydoc               widgetsnbextension\n",
      "abc                 imagesize           pydoc_data          win2kras\n",
      "adodbapi            imaplib             pydocstyle          win32api\n",
      "afxres              imblearn            pyexpat             win32clipboard\n",
      "aifc                imghdr              pyflakes            win32com\n",
      "aiobotocore         importlib           pygments            win32con\n",
      "aiohappyeyeballs    importlib_metadata  pylab               win32console\n",
      "aiohttp             importlib_resources pylint              win32cred\n",
      "aioitertools        incremental         pylint_venv         win32crypt\n",
      "aiosignal           inflect             pyls_spyder         win32cryptcon\n",
      "alabaster           inflection          pylsp               win32ctypes\n",
      "altair              iniconfig           pylsp_black         win32event\n",
      "anaconda_anon_usage inspect             pylsp_jsonrpc       win32evtlog\n",
      "anaconda_catalogs   intake              pyodbc              win32evtlogutil\n",
      "anaconda_cloud_auth intervaltree        pyparsing           win32file\n",
      "anaconda_navigator  io                  pytest              win32gui\n",
      "anaconda_project    ipaddress           pythoncom           win32gui_struct\n",
      "annotated_types     ipykernel           pythonjsonlogger    win32help\n",
      "antigravity         ipykernel_launcher  pytoolconfig        win32inet\n",
      "anyio               ipython_genutils    pytz                win32inetcon\n",
      "appdirs             ipywidgets          pyviz_comms         win32job\n",
      "archspec            isapi               pywin               win32lz\n",
      "argon2              isort               pywin32_bootstrap   win32net\n",
      "argparse            isympy              pywin32_testutil    win32netcon\n",
      "array               itemadapter         pywintypes          win32pdh\n",
      "arrow               itemloaders         pywt                win32pdhquery\n",
      "ast                 itertools           qdarkstyle          win32pdhutil\n",
      "astroid             itsdangerous        qstylizer           win32pipe\n",
      "astropy             jedi                qtawesome           win32print\n",
      "astropy_iers_data   jellyfish           qtconsole           win32process\n",
      "asttokens           jinja2              qtpy                win32profile\n",
      "async_lru           jmespath            queue               win32ras\n",
      "asyncio             joblib              queuelib            win32rcparser\n",
      "atexit              json                quopri              win32security\n",
      "atomicwrites        json5               random              win32service\n",
      "attr                jsonpatch           rasutil             win32serviceutil\n",
      "attrs               jsonpointer         re                  win32timezone\n",
      "audioop             jsonschema          referencing         win32trace\n",
      "autocommand         jsonschema_specifications regcheck            win32traceutil\n",
      "automat             jupyter             regex               win32transaction\n",
      "autopep8            jupyter_client      regutil             win32ts\n",
      "babel               jupyter_console     repo_cli            win32ui\n",
      "backports           jupyter_core        reprlib             win32uiole\n",
      "base64              jupyter_events      requests            win32verstamp\n",
      "bcrypt              jupyter_lsp         requests_file       win32wnet\n",
      "bdb                 jupyter_server      requests_toolbelt   win_inet_pton\n",
      "binaryornot         jupyter_server_terminals rfc3339_validator   winerror\n",
      "binascii            jupyterlab          rfc3986_validator   winioctlcon\n",
      "binstar_client      jupyterlab_plotly   rich                winnt\n",
      "bisect              jupyterlab_pygments rlcompleter         winperf\n",
      "black               jupyterlab_server   rope                winpty\n",
      "blackd              jupyterlab_widgets  rpds                winreg\n",
      "bleach              jwt                 rtree               winsound\n",
      "blib2to3            keyring             ruamel_yaml         winxpgui\n",
      "blinker             keyword             runpy               winxptheme\n",
      "bokeh               kiwisolver          s3fs                wrapt\n",
      "boltons             kneed               sched               wsgiref\n",
      "botocore            lazy_loader         scipy               xarray\n",
      "bottleneck          lazy_object_proxy   scrapy              xdrlib\n",
      "brotli              lckr_jupyterlab_variableinspector seaborn             xlwings\n",
      "bs4                 lib2to3             secrets             xlwingsjs\n",
      "builtins            libarchive          select              xml\n",
      "bz2                 libmambapy          selectors           xmlrpc\n",
      "cProfile            lief                semver              xxlimited\n",
      "cachetools          linecache           send2trash          xxlimited_35\n",
      "calendar            linkify_it          service_identity    xxsubtype\n",
      "certifi             llvmlite            servicemanager      xyzservices\n",
      "cffi                lmdb                setuptools          yaml\n",
      "cgi                 locale              shelve              yapf\n",
      "cgitb               locket              shlex               yapf_third_party\n",
      "chardet             logging             shutil              yapftests\n",
      "charset_normalizer  lxml                signal              yarl\n",
      "chunk               lz4                 sipbuild            zict\n",
      "click               lzma                site                zipapp\n",
      "cloudpickle         mailbox             six                 zipfile\n",
      "cmath               mailcap             skimage             zipimport\n",
      "cmd                 markdown            sklearn             zipp\n",
      "code                markdown_it         slugify             zlib\n",
      "codecs              markupsafe          smart_open          zmq\n",
      "codeop              marshal             smmap               zoneinfo\n",
      "collections         math                smtplib             zope\n",
      "colorama            matplotlib          sndhdr              zstandard\n",
      "colorcet            matplotlib_inline   sniffio             ~ympy\n",
      "colorsys            mccabe              snowballstemmer     \n",
      "\n",
      "Enter any module name to get more help.  Or, type \"modules spam\" to search\n",
      "for modules whose name or summary contain the string \"spam\".\n",
      "\n"
     ]
    }
   ],
   "source": [
    "help('modules') # All module's in python"
   ]
  },
  {
   "cell_type": "markdown",
   "id": "9e321dce-1332-4a08-904c-2fb917311626",
   "metadata": {},
   "source": [
    "# Loops in Python"
   ]
  },
  {
   "cell_type": "markdown",
   "id": "34fe3f77-b9bb-4cdc-a0a2-0ab3423094d7",
   "metadata": {},
   "source": [
    "1. For loop\n",
    "2. while loop\n"
   ]
  },
  {
   "cell_type": "code",
   "execution_count": 28,
   "id": "1005aee4-6bde-4c13-8280-096f88340e7a",
   "metadata": {},
   "outputs": [
    {
     "name": "stdout",
     "output_type": "stream",
     "text": [
      "1\n",
      "2\n",
      "Loop terminated\n"
     ]
    }
   ],
   "source": [
    "# while\n",
    "x=1  \n",
    "\n",
    "while x<3:\n",
    "    print(x)\n",
    "    x+=1\n",
    "\n",
    "else:\n",
    "    print(\"Loop terminated\")"
   ]
  },
  {
   "cell_type": "code",
   "execution_count": 32,
   "id": "4fd44a72-ecb2-4904-bc45-a118f704bab5",
   "metadata": {},
   "outputs": [
    {
     "name": "stdin",
     "output_type": "stream",
     "text": [
      "Guess kara 34\n"
     ]
    },
    {
     "name": "stdout",
     "output_type": "stream",
     "text": [
      "Guess higher\n"
     ]
    },
    {
     "name": "stdin",
     "output_type": "stream",
     "text": [
      "punha Guess kara 50\n"
     ]
    },
    {
     "name": "stdout",
     "output_type": "stream",
     "text": [
      "Guess higher\n"
     ]
    },
    {
     "name": "stdin",
     "output_type": "stream",
     "text": [
      "punha Guess kara 70\n"
     ]
    },
    {
     "name": "stdout",
     "output_type": "stream",
     "text": [
      "Guess lower\n"
     ]
    },
    {
     "name": "stdin",
     "output_type": "stream",
     "text": [
      "punha Guess kara 60\n"
     ]
    },
    {
     "name": "stdout",
     "output_type": "stream",
     "text": [
      "Guess lower\n"
     ]
    },
    {
     "name": "stdin",
     "output_type": "stream",
     "text": [
      "punha Guess kara 55\n"
     ]
    },
    {
     "name": "stdout",
     "output_type": "stream",
     "text": [
      "Guess lower\n"
     ]
    },
    {
     "name": "stdin",
     "output_type": "stream",
     "text": [
      "punha Guess kara 53\n"
     ]
    },
    {
     "name": "stdout",
     "output_type": "stream",
     "text": [
      "Guess lower\n"
     ]
    },
    {
     "name": "stdin",
     "output_type": "stream",
     "text": [
      "punha Guess kara 51\n"
     ]
    },
    {
     "name": "stdout",
     "output_type": "stream",
     "text": [
      "Winner 🥇\n"
     ]
    }
   ],
   "source": [
    "#Guessing game\n",
    "\n",
    "import random\n",
    "\n",
    "jackpot= random.randint(1,100)\n",
    "\n",
    "guess = int(input(\"Guess kara\"))\n",
    "\n",
    "while guess != jackpot:\n",
    "    if guess < jackpot:\n",
    "        print(\"Guess higher\")\n",
    "    else:\n",
    "        print(\"Guess lower\")\n",
    "    guess = int(input(\"punha Guess kara\"))\n",
    "\n",
    "else:\n",
    "    print(\"Winner 🥇\")"
   ]
  },
  {
   "cell_type": "code",
   "execution_count": 35,
   "id": "3c6aedc2-4663-45d7-b3a6-e992066a87db",
   "metadata": {},
   "outputs": [
    {
     "name": "stdout",
     "output_type": "stream",
     "text": [
      "1\n",
      "3\n",
      "5\n",
      "7\n",
      "9\n"
     ]
    }
   ],
   "source": [
    "# for loop\n",
    "\n",
    "for i in range(1,11,2):\n",
    "    print(i)"
   ]
  },
  {
   "cell_type": "code",
   "execution_count": 37,
   "id": "1819ad20-725c-4d8f-843b-863d7a4a0d89",
   "metadata": {},
   "outputs": [
    {
     "name": "stdout",
     "output_type": "stream",
     "text": [
      "11\n",
      "10\n",
      "9\n",
      "8\n",
      "7\n",
      "6\n",
      "5\n",
      "4\n",
      "3\n"
     ]
    }
   ],
   "source": [
    "for i in range(11,2,-1):\n",
    "    print(i)"
   ]
  },
  {
   "cell_type": "code",
   "execution_count": null,
   "id": "82f1e595-edb1-40be-b5a0-069c37f9c9a6",
   "metadata": {},
   "outputs": [],
   "source": []
  }
 ],
 "metadata": {
  "kernelspec": {
   "display_name": "Python 3 (ipykernel)",
   "language": "python",
   "name": "python3"
  },
  "language_info": {
   "codemirror_mode": {
    "name": "ipython",
    "version": 3
   },
   "file_extension": ".py",
   "mimetype": "text/x-python",
   "name": "python",
   "nbconvert_exporter": "python",
   "pygments_lexer": "ipython3",
   "version": "3.12.7"
  }
 },
 "nbformat": 4,
 "nbformat_minor": 5
}
