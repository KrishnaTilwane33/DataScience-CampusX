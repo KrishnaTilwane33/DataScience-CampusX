{
 "cells": [
  {
   "cell_type": "code",
   "execution_count": 22,
   "id": "96b01a16",
   "metadata": {},
   "outputs": [],
   "source": [
    "class Fraction:\n",
    "    \n",
    "    #Parameterized constructor\n",
    "    def __init__(self,x,y):\n",
    "        self.num = x\n",
    "        self.den = y\n",
    "\n",
    "\n",
    "    def __str__(self):\n",
    "        return f\"{self.num}/{self.den}\"\n",
    "\n",
    "\n",
    "    def __add__(self,other):\n",
    "        new_num = self.num*other.den + other.num*self.den\n",
    "        new_den = self.den*other.den\n",
    "\n",
    "        return f'{new_num}/{new_den}'\n",
    "    \n",
    "    def __sub__(self,other):\n",
    "        new_num = self.num*other.den - other.num*self.den\n",
    "        new_den = self.den*other.den\n",
    "\n",
    "        return f'{new_num}/{new_den}'\n",
    "\n",
    "    def __mul__(self,other):\n",
    "        new_num = self.num*other.num\n",
    "        new_den = self.den*other.den\n",
    "\n",
    "        return f'{new_num}/{new_den}'\n",
    "    \n",
    "    def __truediv__(self,other):\n",
    "        new_num = self.num*other.den \n",
    "        new_den = self.den*other.num\n",
    "\n",
    "        return f'{new_num}/{new_den}'"
   ]
  },
  {
   "cell_type": "code",
   "execution_count": 23,
   "id": "d24467ec",
   "metadata": {},
   "outputs": [],
   "source": [
    "fr1 = Fraction(2,3)\n",
    "fr2 = Fraction(4,6)"
   ]
  },
  {
   "cell_type": "code",
   "execution_count": 24,
   "id": "8e769b40",
   "metadata": {},
   "outputs": [
    {
     "name": "stdout",
     "output_type": "stream",
     "text": [
      "2/3\n"
     ]
    }
   ],
   "source": [
    "print((fr1))"
   ]
  },
  {
   "cell_type": "code",
   "execution_count": 25,
   "id": "d71c4bd2",
   "metadata": {},
   "outputs": [
    {
     "name": "stdout",
     "output_type": "stream",
     "text": [
      "24/18\n"
     ]
    }
   ],
   "source": [
    "print(fr1+fr2)"
   ]
  },
  {
   "cell_type": "code",
   "execution_count": 27,
   "id": "1892627f",
   "metadata": {},
   "outputs": [
    {
     "name": "stdout",
     "output_type": "stream",
     "text": [
      "0/18\n"
     ]
    }
   ],
   "source": [
    "print(fr1-fr2)"
   ]
  },
  {
   "cell_type": "code",
   "execution_count": 28,
   "id": "11d424c3",
   "metadata": {},
   "outputs": [
    {
     "name": "stdout",
     "output_type": "stream",
     "text": [
      "8/18\n"
     ]
    }
   ],
   "source": [
    "print(fr1*fr2)"
   ]
  },
  {
   "cell_type": "code",
   "execution_count": 29,
   "id": "17a5090a",
   "metadata": {},
   "outputs": [
    {
     "name": "stdout",
     "output_type": "stream",
     "text": [
      "12/12\n"
     ]
    }
   ],
   "source": [
    "print(fr1/fr2)"
   ]
  },
  {
   "cell_type": "code",
   "execution_count": null,
   "id": "3b67b5c3",
   "metadata": {},
   "outputs": [],
   "source": []
  }
 ],
 "metadata": {
  "kernelspec": {
   "display_name": "Python 3",
   "language": "python",
   "name": "python3"
  },
  "language_info": {
   "codemirror_mode": {
    "name": "ipython",
    "version": 3
   },
   "file_extension": ".py",
   "mimetype": "text/x-python",
   "name": "python",
   "nbconvert_exporter": "python",
   "pygments_lexer": "ipython3",
   "version": "3.12.4"
  }
 },
 "nbformat": 4,
 "nbformat_minor": 5
}
