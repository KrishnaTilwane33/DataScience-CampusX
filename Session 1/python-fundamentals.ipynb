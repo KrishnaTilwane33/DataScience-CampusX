{
 "cells": [
  {
   "cell_type": "code",
   "execution_count": 2,
   "id": "6dee0f83-d687-4bd0-9ac6-18c2ef2f9a4d",
   "metadata": {},
   "outputs": [
    {
     "name": "stdout",
     "output_type": "stream",
     "text": [
      "Hello Word\n"
     ]
    }
   ],
   "source": [
    "#python is case sensitive language\n",
    "print(\"Hello Word\")"
   ]
  },
  {
   "cell_type": "code",
   "execution_count": 3,
   "id": "f8ff7f5a-a08c-467b-a4a7-46c4eee7035a",
   "metadata": {},
   "outputs": [
    {
     "name": "stdout",
     "output_type": "stream",
     "text": [
      "Hello 1 2.4 False\n"
     ]
    }
   ],
   "source": [
    "print(\"Hello\",1,2.4,False)"
   ]
  },
  {
   "cell_type": "code",
   "execution_count": 4,
   "id": "16622c7a-08b9-4782-9291-0b711ecda91d",
   "metadata": {},
   "outputs": [
    {
     "data": {
      "text/plain": [
       "tuple"
      ]
     },
     "execution_count": 4,
     "metadata": {},
     "output_type": "execute_result"
    }
   ],
   "source": [
    "type((1,3,5,6))"
   ]
  },
  {
   "cell_type": "code",
   "execution_count": 8,
   "id": "fdb31209-aaa4-4db6-a23a-348c4707b330",
   "metadata": {},
   "outputs": [
    {
     "ename": "SyntaxError",
     "evalue": "invalid syntax (3958569544.py, line 3)",
     "output_type": "error",
     "traceback": [
      "\u001b[1;36m  Cell \u001b[1;32mIn[8], line 3\u001b[1;36m\u001b[0m\n\u001b[1;33m    int a=5\u001b[0m\n\u001b[1;37m        ^\u001b[0m\n\u001b[1;31mSyntaxError\u001b[0m\u001b[1;31m:\u001b[0m invalid syntax\n"
     ]
    }
   ],
   "source": [
    "#dynamic typing vs static typing\n",
    "a=5\n",
    "int a=5\n",
    "print(a)"
   ]
  },
  {
   "cell_type": "code",
   "execution_count": 9,
   "id": "230a7ff9-3a11-41e7-9e31-d5d4242955ac",
   "metadata": {},
   "outputs": [
    {
     "name": "stdout",
     "output_type": "stream",
     "text": [
      "Hello\n",
      "7.9\n"
     ]
    }
   ],
   "source": [
    "#dynamic binding \n",
    "a='Hello'\n",
    "print(a)\n",
    "a=7.9\n",
    "print(a)"
   ]
  },
  {
   "cell_type": "code",
   "execution_count": 10,
   "id": "75593fa0-ab45-420e-84b9-469d2b5329ae",
   "metadata": {},
   "outputs": [
    {
     "name": "stdout",
     "output_type": "stream",
     "text": [
      "1 2 3\n"
     ]
    }
   ],
   "source": [
    "#dynamic assignment\n",
    "a,b,c=1,2,3\n",
    "print(a,b,c)"
   ]
  },
  {
   "cell_type": "code",
   "execution_count": 7,
   "id": "a7d03833-b222-41ae-94aa-515ee9d629af",
   "metadata": {},
   "outputs": [
    {
     "name": "stdout",
     "output_type": "stream",
     "text": [
      "5 5 5\n"
     ]
    }
   ],
   "source": [
    "a=b=c=5\n",
    "print(a,b,c)"
   ]
  },
  {
   "cell_type": "markdown",
   "id": "1dd89857-a791-484d-9fc0-76a2c7499575",
   "metadata": {},
   "source": [
    "<h1>#Hello</h1>"
   ]
  },
  {
   "cell_type": "markdown",
   "id": "5e8e4ef0-6858-4276-8cea-0fd35cbf025c",
   "metadata": {},
   "source": [
    "<h1>keywords & identifiers</h1>"
   ]
  },
  {
   "cell_type": "markdown",
   "id": "aaf651b8-8ec4-4aa2-9460-7ef7a03e1003",
   "metadata": {},
   "source": [
    "#User Input"
   ]
  },
  {
   "cell_type": "code",
   "execution_count": 3,
   "id": "29cc683d-bbe8-4a9e-8b9e-b9b26a8f4fcd",
   "metadata": {},
   "outputs": [
    {
     "name": "stdin",
     "output_type": "stream",
     "text": [
      "Enter num 54\n"
     ]
    },
    {
     "data": {
      "text/plain": [
       "'54'"
      ]
     },
     "execution_count": 3,
     "metadata": {},
     "output_type": "execute_result"
    }
   ],
   "source": [
    "input(\"Enter num\")"
   ]
  },
  {
   "cell_type": "markdown",
   "id": "1314dcf8-d1c8-4235-bf41-3866ef9d3028",
   "metadata": {},
   "source": [
    "<h1>Type conversion</h1>"
   ]
  },
  {
   "cell_type": "code",
   "execution_count": 4,
   "id": "b82ff5f3-c802-45ed-9fef-4c7c185c8c5f",
   "metadata": {},
   "outputs": [],
   "source": [
    "#Implicit & Explicit"
   ]
  },
  {
   "cell_type": "code",
   "execution_count": 5,
   "id": "38d1459d-5227-4213-859e-a59cc9bedb7a",
   "metadata": {},
   "outputs": [
    {
     "name": "stdout",
     "output_type": "stream",
     "text": [
      "hello\n"
     ]
    }
   ],
   "source": [
    "print(\"hello\")"
   ]
  },
  {
   "cell_type": "markdown",
   "id": "16b21ace-2288-4bf3-8c3d-eb9916d3f34b",
   "metadata": {},
   "source": [
    "<h1>Literal </h1>"
   ]
  },
  {
   "cell_type": "code",
   "execution_count": 6,
   "id": "b5fd7c7d-b1eb-4d01-8f10-bbd14d5a238b",
   "metadata": {},
   "outputs": [
    {
     "name": "stdout",
     "output_type": "stream",
     "text": [
      "10\n"
     ]
    }
   ],
   "source": [
    "a=0b1010 #binary value\n",
    "print(a)"
   ]
  },
  {
   "cell_type": "code",
   "execution_count": 7,
   "id": "625924d0-e147-4aec-969d-d5d600f05980",
   "metadata": {},
   "outputs": [
    {
     "name": "stdout",
     "output_type": "stream",
     "text": [
      "520\n"
     ]
    }
   ],
   "source": [
    "b=0o1010 #octel value\n",
    "print(b)"
   ]
  },
  {
   "cell_type": "code",
   "execution_count": 9,
   "id": "a82f3e71-9f6e-4f71-b744-38b166c96793",
   "metadata": {},
   "outputs": [
    {
     "name": "stdout",
     "output_type": "stream",
     "text": [
      "1010\n"
     ]
    }
   ],
   "source": [
    "c=1010 #decimal value\n",
    "print(c)"
   ]
  },
  {
   "cell_type": "code",
   "execution_count": 10,
   "id": "551c6b10-39c2-4422-b034-c08219623702",
   "metadata": {},
   "outputs": [
    {
     "name": "stdout",
     "output_type": "stream",
     "text": [
      "4112\n"
     ]
    }
   ],
   "source": [
    "d=0x1010 #hexadecimal value\n",
    "print(d)"
   ]
  },
  {
   "cell_type": "code",
   "execution_count": null,
   "id": "99af1736-2d75-4940-be4b-fad2ad51c0c8",
   "metadata": {},
   "outputs": [],
   "source": []
  }
 ],
 "metadata": {
  "kernelspec": {
   "display_name": "Python 3 (ipykernel)",
   "language": "python",
   "name": "python3"
  },
  "language_info": {
   "codemirror_mode": {
    "name": "ipython",
    "version": 3
   },
   "file_extension": ".py",
   "mimetype": "text/x-python",
   "name": "python",
   "nbconvert_exporter": "python",
   "pygments_lexer": "ipython3",
   "version": "3.12.7"
  }
 },
 "nbformat": 4,
 "nbformat_minor": 5
}
