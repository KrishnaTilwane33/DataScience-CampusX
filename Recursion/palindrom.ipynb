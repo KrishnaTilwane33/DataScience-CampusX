{
 "cells": [
  {
   "cell_type": "markdown",
   "id": "59bfa8f2-f608-4308-bf2d-1b1588ccf5c1",
   "metadata": {
    "jp-MarkdownHeadingCollapsed": true
   },
   "source": [
    "#### In palindrom , 1st and last char are always same.\n",
    "##### So, we will remove 1st and last char if they are equal and return if string equal or less than 1 "
   ]
  },
  {
   "cell_type": "code",
   "execution_count": 2,
   "id": "687c15e0-5904-422c-97de-16cfe7d45095",
   "metadata": {},
   "outputs": [
    {
     "name": "stdout",
     "output_type": "stream",
     "text": [
      "Palindrom\n",
      "Palindrom\n",
      "Not a Palindrom\n",
      "Palindrom\n"
     ]
    }
   ],
   "source": [
    "def palin(s):\n",
    "    if len(s)<=1:\n",
    "        print('Palindrom')\n",
    "    else:\n",
    "        if s[0]==s[-1]:\n",
    "            palin(s[1:-1])\n",
    "        else:\n",
    "            print('Not a Palindrom')\n",
    "\n",
    "palin('madam')\n",
    "palin('malayalam')\n",
    "palin('Ajay')\n",
    "palin('abba')"
   ]
  },
  {
   "cell_type": "code",
   "execution_count": null,
   "id": "53d76f18-977a-4acb-8f38-824115df6038",
   "metadata": {},
   "outputs": [],
   "source": []
  }
 ],
 "metadata": {
  "kernelspec": {
   "display_name": "Python 3 (ipykernel)",
   "language": "python",
   "name": "python3"
  },
  "language_info": {
   "codemirror_mode": {
    "name": "ipython",
    "version": 3
   },
   "file_extension": ".py",
   "mimetype": "text/x-python",
   "name": "python",
   "nbconvert_exporter": "python",
   "pygments_lexer": "ipython3",
   "version": "3.12.4"
  }
 },
 "nbformat": 4,
 "nbformat_minor": 5
}
