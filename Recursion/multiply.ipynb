{
 "cells": [
  {
   "cell_type": "markdown",
   "id": "889f7202-b9bf-4a6a-8d09-76b28f4e9353",
   "metadata": {},
   "source": [
    "# Recursion"
   ]
  },
  {
   "cell_type": "markdown",
   "id": "366321f4-c9e4-4e85-8dd1-f9b985840880",
   "metadata": {},
   "source": [
    "### 1. In recursion, A function call itself repeatedly until the based condition hits.\n",
    "### 2. It is simply avoids the loop"
   ]
  },
  {
   "cell_type": "code",
   "execution_count": 3,
   "id": "3b4ff5a4-837e-4635-8686-dede0469ae2c",
   "metadata": {},
   "outputs": [
    {
     "name": "stdout",
     "output_type": "stream",
     "text": [
      "12\n"
     ]
    }
   ],
   "source": [
    "def mul(a,b):\n",
    "    if b==1:\n",
    "        return a\n",
    "    else:\n",
    "        return a+ mul(a,b-1)\n",
    "\n",
    "print(mul(3,4))"
   ]
  },
  {
   "cell_type": "code",
   "execution_count": null,
   "id": "238de3e5-c71a-485d-b2a3-5cdac4f5a60b",
   "metadata": {},
   "outputs": [],
   "source": []
  }
 ],
 "metadata": {
  "kernelspec": {
   "display_name": "Python 3 (ipykernel)",
   "language": "python",
   "name": "python3"
  },
  "language_info": {
   "codemirror_mode": {
    "name": "ipython",
    "version": 3
   },
   "file_extension": ".py",
   "mimetype": "text/x-python",
   "name": "python",
   "nbconvert_exporter": "python",
   "pygments_lexer": "ipython3",
   "version": "3.12.4"
  }
 },
 "nbformat": 4,
 "nbformat_minor": 5
}
