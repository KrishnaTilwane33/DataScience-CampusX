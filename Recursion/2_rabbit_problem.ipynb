{
 "cells": [
  {
   "cell_type": "markdown",
   "id": "a2d05bde-f2c9-4212-8c0b-d8a56d911488",
   "metadata": {},
   "source": [
    "### One major prblem with the fibonacci recursion is\n",
    "## \"Time complexity\""
   ]
  },
  {
   "cell_type": "code",
   "execution_count": 1,
   "id": "c3a33176-755e-4f19-86c3-7c190dbb5b08",
   "metadata": {},
   "outputs": [
    {
     "name": "stdout",
     "output_type": "stream",
     "text": [
      "233\n"
     ]
    }
   ],
   "source": [
    "def fibonacci(m):\n",
    "    if m==0 or m==1:\n",
    "        return 1\n",
    "    else:\n",
    "        return fibonacci(m-1)+fibonacci(m-2)\n",
    "\n",
    "print(fibonacci(12))"
   ]
  },
  {
   "cell_type": "code",
   "execution_count": 6,
   "id": "3d6d6b49-5057-420f-b21c-f5a89c9959ca",
   "metadata": {},
   "outputs": [
    {
     "name": "stdout",
     "output_type": "stream",
     "text": [
      "14930352\n",
      "execution time  4.461626768112183\n"
     ]
    }
   ],
   "source": [
    "import time\n",
    "def fibonacci(m):\n",
    "    if m==0 or m==1:\n",
    "        return 1\n",
    "    else:\n",
    "        return fibonacci(m-1)+fibonacci(m-2)\n",
    "\n",
    "start=time.time()\n",
    "print(fibonacci(35))\n",
    "print(\"execution time \",time.time()-start)"
   ]
  },
  {
   "cell_type": "markdown",
   "id": "a342b67e-b55d-40ff-99d2-a6d546d8f8b8",
   "metadata": {},
   "source": [
    "### To overcome time complexity , we do time trade deal\n",
    "### use Storage to save previous calculations\n",
    "### eg. dictionary key value pair"
   ]
  },
  {
   "cell_type": "markdown",
   "id": "6d988d84-22fe-4ea3-a14a-0a7a0e26fa3e",
   "metadata": {},
   "source": [
    "## It is called Memoization, In Dynamic Programming "
   ]
  },
  {
   "cell_type": "code",
   "execution_count": 25,
   "id": "ed5bb244-7c03-4645-9911-6100b59914aa",
   "metadata": {},
   "outputs": [
    {
     "name": "stdout",
     "output_type": "stream",
     "text": [
      "10368302567224130725402808720944745269169846358949206566546969004533913542980215297205069908032363496696295407802127339192049934635164785051305462041186616079804109502865858095356647843497526775130266172258968068170793732410433311342085977856492749639938183593526456620492441044798459898554132862221629067355938799629465443980858029738015742126451460091366380561349825306127252560586121406924672262468427190673642135265859269726057763349069496969887205666371709866621751717323402940230024941883749617398064589257637762440693437179535768949926413523261190831382310521657050401255725846464639099512865670912780076725915476289\n",
      "0.0009968280792236328\n"
     ]
    }
   ],
   "source": [
    "import time\n",
    "\n",
    "def memo(month,dic):\n",
    "\n",
    "    if month in dic:\n",
    "        return d[month]\n",
    "    else:\n",
    "        d[month]=memo(month-1,dic)+memo(month-2,dic)\n",
    "        return d[month]\n",
    "\n",
    "start = time.time()\n",
    "d={0:1,1:1}\n",
    "print(memo(2977,d))\n",
    "print(time.time()-start)\n",
    "# print(d)"
   ]
  },
  {
   "cell_type": "markdown",
   "id": "d6a4b1c4-07e4-4c23-ba56-59ff303a7a8f",
   "metadata": {},
   "source": [
    "### Example 2\n",
    "#### Power set problem"
   ]
  },
  {
   "cell_type": "code",
   "execution_count": null,
   "id": "4598aa35-e774-4bbf-a607-55e0f10aa965",
   "metadata": {},
   "outputs": [],
   "source": [
    "def ps(l):\n",
    "    if len(l)==0:\n",
    "        return result\n",
    "    \n",
    "\n",
    "result=[[]]"
   ]
  },
  {
   "cell_type": "code",
   "execution_count": 27,
   "id": "d5c1eb1e-35af-43ca-ae6e-fc67b84f908f",
   "metadata": {},
   "outputs": [
    {
     "data": {
      "text/plain": [
       "[[], [3], [2], [2, 3], [1], [1, 3], [1, 2], [1, 2, 3]]"
      ]
     },
     "execution_count": 27,
     "metadata": {},
     "output_type": "execute_result"
    }
   ],
   "source": [
    "def generate_powerset(nums):\n",
    "    result = []\n",
    "\n",
    "    def backtrack(index, current):\n",
    "        # Base case: if we have considered all elements\n",
    "        if index == len(nums):\n",
    "            result.append(current[:])  # add a copy of current subset\n",
    "            return\n",
    "\n",
    "        # Choice 1: Exclude nums[index]\n",
    "        backtrack(index + 1, current)\n",
    "\n",
    "        # Choice 2: Include nums[index]\n",
    "        current.append(nums[index])\n",
    "        backtrack(index + 1, current)\n",
    "        current.pop()  # backtrack\n",
    "\n",
    "    backtrack(0, [])\n",
    "    return result\n",
    "\n",
    "# Example usage\n",
    "nums = [1, 2, 3]\n",
    "powerset = generate_powerset(nums)\n",
    "powerset\n"
   ]
  },
  {
   "cell_type": "code",
   "execution_count": null,
   "id": "b8a6b28c-edf7-4c90-af7a-f0a91eb9d7bd",
   "metadata": {},
   "outputs": [],
   "source": []
  }
 ],
 "metadata": {
  "kernelspec": {
   "display_name": "Python 3 (ipykernel)",
   "language": "python",
   "name": "python3"
  },
  "language_info": {
   "codemirror_mode": {
    "name": "ipython",
    "version": 3
   },
   "file_extension": ".py",
   "mimetype": "text/x-python",
   "name": "python",
   "nbconvert_exporter": "python",
   "pygments_lexer": "ipython3",
   "version": "3.12.4"
  }
 },
 "nbformat": 4,
 "nbformat_minor": 5
}
