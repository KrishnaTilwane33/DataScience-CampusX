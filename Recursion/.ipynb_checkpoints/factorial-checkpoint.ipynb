{
 "cells": [
  {
   "cell_type": "code",
   "execution_count": 2,
   "id": "2a2b28d1-3bc7-479b-a1cf-03faabd02912",
   "metadata": {},
   "outputs": [
    {
     "name": "stdout",
     "output_type": "stream",
     "text": [
      "120\n"
     ]
    }
   ],
   "source": [
    "def fact(num):\n",
    "    if num==1:\n",
    "        return 1\n",
    "    else:\n",
    "        #5=5*4!\n",
    "        return num*fact(num-1)\n",
    "\n",
    "print(fact(5))"
   ]
  },
  {
   "cell_type": "code",
   "execution_count": null,
   "id": "599c4791-ad21-46d8-98c7-8bd7f2e53c40",
   "metadata": {},
   "outputs": [],
   "source": []
  }
 ],
 "metadata": {
  "kernelspec": {
   "display_name": "Python 3 (ipykernel)",
   "language": "python",
   "name": "python3"
  },
  "language_info": {
   "codemirror_mode": {
    "name": "ipython",
    "version": 3
   },
   "file_extension": ".py",
   "mimetype": "text/x-python",
   "name": "python",
   "nbconvert_exporter": "python",
   "pygments_lexer": "ipython3",
   "version": "3.12.4"
  }
 },
 "nbformat": 4,
 "nbformat_minor": 5
}
