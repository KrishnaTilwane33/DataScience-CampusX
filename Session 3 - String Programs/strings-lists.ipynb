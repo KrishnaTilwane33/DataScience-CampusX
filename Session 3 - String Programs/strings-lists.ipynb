{
 "cells": [
  {
   "cell_type": "code",
   "execution_count": 1,
   "id": "5bd5bcaa",
   "metadata": {},
   "outputs": [
    {
     "name": "stdout",
     "output_type": "stream",
     "text": [
      "length of string is  6\n"
     ]
    }
   ],
   "source": [
    "#lenght of string without len()\n",
    "s = input(\"enter the string\")\n",
    "count=0\n",
    "\n",
    "for i in s:\n",
    "    count+=1\n",
    "\n",
    "\n",
    "print(\"length of string is \",count)"
   ]
  },
  {
   "cell_type": "code",
   "execution_count": 2,
   "id": "d0c55f05",
   "metadata": {},
   "outputs": [
    {
     "name": "stdout",
     "output_type": "stream",
     "text": [
      "amruta\n"
     ]
    }
   ],
   "source": [
    "# extract username from email id\n",
    "\n",
    "email=input(\"enter the emailid \")\n",
    "\n",
    "position=email.index(\"@\")\n",
    "\n",
    "print(email[0:position])"
   ]
  },
  {
   "cell_type": "code",
   "execution_count": 4,
   "id": "1ddcc7aa",
   "metadata": {},
   "outputs": [
    {
     "name": "stdout",
     "output_type": "stream",
     "text": [
      "the frequency of m is 3\n"
     ]
    }
   ],
   "source": [
    "#frequency of characterr in a string\n",
    "s= input(\"enter the string\")\n",
    "char = input(\"what whould you like to search\")\n",
    "count=0\n",
    "for i in s:\n",
    "    if i == char:\n",
    "        count+=1\n",
    "\n",
    "print(f\"the frequency of {char} is {count}\")"
   ]
  },
  {
   "cell_type": "code",
   "execution_count": 5,
   "id": "ee79ff52",
   "metadata": {},
   "outputs": [
    {
     "name": "stdout",
     "output_type": "stream",
     "text": [
      "mrut\n"
     ]
    }
   ],
   "source": [
    "# remove a char from string\n",
    "s= input(\"enter the string\")\n",
    "char = input(\"what whould you like to remove\")\n",
    "\n",
    "result=\"\"\n",
    "\n",
    "for i in s:\n",
    "    if i != char:\n",
    "        result+=i\n",
    "\n",
    "print(result)"
   ]
  },
  {
   "cell_type": "code",
   "execution_count": 8,
   "id": "f6c49037",
   "metadata": {},
   "outputs": [
    {
     "name": "stdout",
     "output_type": "stream",
     "text": [
      "amruttta and attturma is not palindrom\n"
     ]
    }
   ],
   "source": [
    "#string palindrom\n",
    "\n",
    "s= input(\"enter the string\")\n",
    "\n",
    "if s[:] == s[::-1]:\n",
    "    print(f\"{s[:]} and {s[::-1]} is palindrom\")\n",
    "\n",
    "else:\n",
    "    print(f\"{s[:]} and {s[::-1]} is not palindrom\")"
   ]
  }
 ],
 "metadata": {
  "kernelspec": {
   "display_name": "Python 3",
   "language": "python",
   "name": "python3"
  },
  "language_info": {
   "codemirror_mode": {
    "name": "ipython",
    "version": 3
   },
   "file_extension": ".py",
   "mimetype": "text/x-python",
   "name": "python",
   "nbconvert_exporter": "python",
   "pygments_lexer": "ipython3",
   "version": "3.12.4"
  }
 },
 "nbformat": 4,
 "nbformat_minor": 5
}
